{
 "cells": [
  {
   "cell_type": "code",
   "execution_count": 2,
   "metadata": {},
   "outputs": [
    {
     "data": {
      "text/html": [
       "<style>.container { width:100% !important; }</style>"
      ],
      "text/plain": [
       "<IPython.core.display.HTML object>"
      ]
     },
     "metadata": {},
     "output_type": "display_data"
    }
   ],
   "source": [
    "import os\n",
    "import math\n",
    "import talib\n",
    "import random\n",
    "import pickle\n",
    "import json\n",
    "import pandas as pd\n",
    "import numpy as np\n",
    "import jqdatasdk as jq\n",
    "import baostock as bs\n",
    "import time\n",
    "\n",
    "from scipy import signal\n",
    "from scipy import stats\n",
    "from datetime import datetime, timedelta\n",
    "from tqdm import tqdm\n",
    "\n",
    "import matplotlib.pyplot as plt\n",
    "from IPython.core.display import HTML, clear_output\n",
    "\n",
    "%matplotlib inline\n",
    "%config InlineBackend.figure_format='svg'\n",
    "display(HTML(\"<style>.container { width:100% !important; }</style>\"))\n",
    "pd.set_option('display.max_columns', None)\n",
    "pd.set_option('display.max_rows',    5000)"
   ]
  },
  {
   "cell_type": "code",
   "execution_count": 3,
   "metadata": {},
   "outputs": [],
   "source": [
    "from featureutils import FeatureTool\n",
    "from plotutils import PlotTool\n",
    "from datagent import BaosAgent\n",
    "from datagent import DataUtil\n",
    "from datagent import JQDataUtil\n",
    "from sfstrategy import SFStrategy"
   ]
  },
  {
   "cell_type": "code",
   "execution_count": 4,
   "metadata": {},
   "outputs": [],
   "source": [
    "def get_freq_file_sto_ids(freq):\n",
    "    file_sto_ids = []\n",
    "    path_src = './data/' + str(freq) + '/'\n",
    "    files = os.listdir(path_src)\n",
    "    all_file_sto_id = []\n",
    "    for file in files:\n",
    "        if file.endswith('pkl'):\n",
    "            file_sto_ids.append(file[:6])\n",
    "\n",
    "    return file_sto_ids"
   ]
  },
  {
   "cell_type": "code",
   "execution_count": null,
   "metadata": {},
   "outputs": [],
   "source": []
  },
  {
   "cell_type": "code",
   "execution_count": 363,
   "metadata": {},
   "outputs": [
    {
     "name": "stdout",
     "output_type": "stream",
     "text": [
      "{'total': 10000000, 'spare': 9805303}\n",
      "已退出\n"
     ]
    }
   ],
   "source": [
    "jq.auth('15808061188', 'allan2jq')\n",
    "clear_output()\n",
    "print(jq.get_query_count())\n",
    "jq.logout()"
   ]
  },
  {
   "cell_type": "code",
   "execution_count": null,
   "metadata": {},
   "outputs": [],
   "source": []
  },
  {
   "cell_type": "code",
   "execution_count": null,
   "metadata": {},
   "outputs": [],
   "source": [
    "def obs(sto_id, delta, save_flag, pic_path):\n",
    "    daily_count = int(240 / delta)\n",
    "    minimum = daily_count * 5 * 24\n",
    "\n",
    "    df = BaosAgent.read_freq_df(delta, sto_id)\n",
    "#     ts_jq = JQDataUtil.get_end_ts(delta)\n",
    "#     df = DataUtil.add_rt_data(sto_id, df, delta, ts_jq)\n",
    "    \n",
    "    minp = min(df.iloc[-minimum:].close)\n",
    "    curp = df.iloc[-1].close\n",
    "    cr = (curp - minp) / minp\n",
    "    \n",
    "    df = FeatureTool.add_ta_features(df, daily_count)\n",
    "    df = FeatureTool.add_close_features(df, daily_count)\n",
    "    df = FeatureTool.add_volume_features(df, daily_count)\n",
    "    df = df.dropna()\n",
    "    df = df.reset_index(drop=True)\n",
    "    print('df size: ' + str(len(df)))\n",
    "    if len(df) >= minimum and 5 < df.close.iloc[-1] < 50:\n",
    "        df = df.iloc[-minimum:]\n",
    "        df = df.reset_index(drop=True)\n",
    "        \n",
    "        cond = SFStrategy.get_cond_k12345above80_last40(df, daily_count)\n",
    "        tgt_idxes = df[cond].index\n",
    "        if len(tgt_idxes) > 0:\n",
    "            print('{:>6.2%} {} {} {} {} {:>6.2f}'.format(cr, sto_id, len(df), df.time.iloc[tgt_idxes[-1]], df.time.iloc[-1], df.close.iloc[-1]))\n",
    "        else:\n",
    "            print('{:>6.2%} {} {} {} {:>6.2f}'.format(cr, sto_id, len(df), df.time.iloc[-1], df.close.iloc[-1]))\n",
    "        PlotTool.display_obs(df, daily_count, tgt_idxes, save_flag, pic_path)\n",
    "    return df"
   ]
  },
  {
   "cell_type": "code",
   "execution_count": 321,
   "metadata": {},
   "outputs": [
    {
     "data": {
      "text/plain": [
       "'202002071500'"
      ]
     },
     "execution_count": 321,
     "metadata": {},
     "output_type": "execute_result"
    }
   ],
   "source": [
    "sto_id = random.sample(sto_ids, 1)[0]\n",
    "df = BaosAgent.read_freq_df(15, sto_id)\n",
    "df.time.iloc[-1]"
   ]
  },
  {
   "cell_type": "code",
   "execution_count": 318,
   "metadata": {},
   "outputs": [
    {
     "data": {
      "text/plain": [
       "3448"
      ]
     },
     "execution_count": 318,
     "metadata": {},
     "output_type": "execute_result"
    }
   ],
   "source": [
    "len(sto_ids)"
   ]
  },
  {
   "cell_type": "code",
   "execution_count": 5,
   "metadata": {},
   "outputs": [
    {
     "data": {
      "text/plain": [
       "'202002211500'"
      ]
     },
     "execution_count": 5,
     "metadata": {},
     "output_type": "execute_result"
    }
   ],
   "source": [
    "delta = 15\n",
    "sto_ids = get_freq_file_sto_ids(delta)\n",
    "df = BaosAgent.read_freq_df(delta, random.sample(sto_ids, 1)[0])\n",
    "df.iloc[-1].time"
   ]
  },
  {
   "cell_type": "code",
   "execution_count": null,
   "metadata": {},
   "outputs": [],
   "source": []
  },
  {
   "cell_type": "code",
   "execution_count": null,
   "metadata": {},
   "outputs": [],
   "source": []
  },
  {
   "cell_type": "code",
   "execution_count": null,
   "metadata": {
    "scrolled": false
   },
   "outputs": [],
   "source": [
    "delta = 15\n",
    "matches_df = pd.read_csv('matches.csv', dtype={'sto_id':str})\n",
    "sto_ids_backup = matches_df.sto_id.tolist()\n",
    "sto_ids_backup.sort()\n",
    "print(len(sto_ids_backup))\n",
    "for sto_id in sto_ids_backup:\n",
    "    obs_rt(sto_id, delta, True)\n",
    "    clear_output()"
   ]
  },
  {
   "cell_type": "code",
   "execution_count": null,
   "metadata": {},
   "outputs": [],
   "source": []
  },
  {
   "cell_type": "code",
   "execution_count": null,
   "metadata": {},
   "outputs": [],
   "source": [
    "delta = 15\n",
    "sto_ids = get_freq_file_sto_ids(delta)"
   ]
  },
  {
   "cell_type": "code",
   "execution_count": null,
   "metadata": {},
   "outputs": [],
   "source": [
    "for sto_id in random.sample(sto_ids, 200):\n",
    "    df = obs(sto_id, delta, True, './pic/')\n",
    "    clear_output()"
   ]
  },
  {
   "cell_type": "code",
   "execution_count": null,
   "metadata": {
    "scrolled": false
   },
   "outputs": [],
   "source": [
    "delta = 15\n",
    "sto_ids = get_freq_file_sto_ids(delta)\n",
    "sto_id = random.sample(sto_ids, 1)[0]\n",
    "# sto_id = '603527'\n",
    "df = obs(sto_id, delta, False, './pic/')"
   ]
  },
  {
   "cell_type": "code",
   "execution_count": null,
   "metadata": {},
   "outputs": [],
   "source": []
  },
  {
   "cell_type": "code",
   "execution_count": null,
   "metadata": {},
   "outputs": [],
   "source": [
    "delta = 15\n",
    "sto_ids = get_freq_file_sto_ids(delta)\n",
    "sto_id = random.sample(sto_ids, 1)[0]\n",
    "\n",
    "    daily_count = int(240 / delta)\n",
    "    minimum = daily_count * 5 * 28\n",
    "    ts_jq = JQDataUtil.get_end_ts(delta)\n",
    "    df = BaosAgent.read_freq_df(delta, sto_id)\n",
    "    df = DataUtil.add_rt_data(sto_id, df, delta, ts_jq)\n",
    "    \n",
    "    minp = min(df.iloc[-minimum:].close)\n",
    "    curp = df.iloc[-1].close\n",
    "    cr = (curp - minp) / minp\n",
    "    \n",
    "    df = FeatureTool.add_ta_features(df, daily_count)\n",
    "    df = FeatureTool.add_close_features(df, daily_count)\n",
    "    df = FeatureTool.add_volume_features(df, daily_count)\n",
    "    df = df.dropna()\n",
    "    df = df.reset_index(drop=True)"
   ]
  },
  {
   "cell_type": "code",
   "execution_count": null,
   "metadata": {},
   "outputs": [],
   "source": []
  },
  {
   "cell_type": "code",
   "execution_count": null,
   "metadata": {},
   "outputs": [],
   "source": []
  },
  {
   "cell_type": "code",
   "execution_count": null,
   "metadata": {},
   "outputs": [],
   "source": [
    "jq.auth('15808061188', 'allan2jq')\n",
    "clear_output()\n",
    "jq.get_query_count()"
   ]
  },
  {
   "cell_type": "code",
   "execution_count": null,
   "metadata": {},
   "outputs": [],
   "source": [
    "delta = 15\n",
    "daily_count = int(240/delta)\n",
    "\n",
    "sto_ids = get_freq_file_sto_ids(delta)\n",
    "sto_id = random.sample(sto_ids, 1)[0]\n",
    "\n",
    "\n",
    "df = BaosAgent.read_freq_df(delta, sto_id)\n",
    "df = DataUtil.add_rt_data(sto_id, df, delta, JQDataUtil.get_end_ts(delta))\n",
    "df = FeatureTool.add_bband_ft(df, daily_count, 70)\n",
    "df = FeatureTool.add_kd_ft(df, daily_count, 70)\n",
    "df = df.dropna()\n",
    "df = df.reset_index(drop=True)\n",
    "\n",
    "tgt_idxes = []\n",
    "# cond = df.K_5.shift(1) < df.D_5.shift(1)\n",
    "# cond = (df.K_5 > df.D_5) & cond \n",
    "# cond = (df.K_5 < 20) & (df.D_5 < 20) & cond\n",
    "\n",
    "# cond = (df.BAND_upper > df.BAND_upper.shift(1))\n",
    "# cond = (df.BAND_middle > df.BAND_middle.shift(1)) & cond\n",
    "# cond = (df.BAND_lower > df.BAND_lower.shift(1)) & cond\n",
    "\n",
    "cond = df.close > 0\n",
    "for col in df.columns:\n",
    "    if col.startswith('BAND_'):\n",
    "        cond = (df[col] > df.close) & cond\n",
    "        \n",
    "tgt_idxes = df[cond].index\n",
    "print(tgt_idxes)\n",
    "\n",
    "fig = plt.figure(figsize=(PlotTool.fig_width_factor * len(df) / (daily_count * 30), PlotTool.fig_height * 3))\n",
    "fig.patch.set_facecolor('#2A2A2A')\n",
    "xaxis_idxes = df.index.values\n",
    "x_axis_slice = slice(0, -1, daily_count * 5)\n",
    "\n",
    "ax = plt.subplot(1, 1, 1)\n",
    "PlotTool.custom_ax(ax)\n",
    "ax.plot(xaxis_idxes, df.close, lw=.5, color='orange')\n",
    "for col in df.columns:\n",
    "    if col.startswith('BAND_upper'):\n",
    "        ax.plot(xaxis_idxes, df[col],  lw=.1, color='orangered')\n",
    "    if col.startswith('BAND_middle'):\n",
    "        ax.plot(xaxis_idxes, df[col],  lw=.1, color='orange')\n",
    "    if col.startswith('BAND_lower'):\n",
    "        ax.plot(xaxis_idxes, df[col],  lw=.1, color='lime')\n",
    "\n",
    "# ax.plot(xaxis_idxes, df['K_1'],  lw=.5, color='cyan')\n",
    "# ax.plot(xaxis_idxes, df['D_1'],  lw=.2, color='cyan')\n",
    "# ax.hlines(20, np.min(xaxis_idxes), np.max(xaxis_idxes), lw=.3, color='w')\n",
    "# ax.hlines(80, np.min(xaxis_idxes), np.max(xaxis_idxes), lw=.3, color='w')\n",
    "for obs_idx in tgt_idxes:\n",
    "    ax.vlines(xaxis_idxes[obs_idx], np.min(df.close), np.max(df.close), lw=.2, color='w')\n",
    "plt.sca(ax)\n",
    "plt.xticks(xaxis_idxes[x_axis_slice], fontsize=8, rotation=10, color='w')\n",
    "plt.yticks(fontsize=8, color='w')\n",
    "# ax2 = ax.twinx()\n",
    "# PlotTool.custom_ax(ax2)\n",
    "# ax2.plot(xaxis_idxes, df.close, lw=.5, color='orange')\n",
    "# for obs_idx in tgt_idxes:\n",
    "#     ax2.vlines(xaxis_idxes[obs_idx], np.min(df.close), np.max(df.close), lw=.2, color='w')\n",
    "# plt.sca(ax2)\n",
    "# plt.xticks(xaxis_idxes[x_axis_slice], fontsize=8, rotation=10, color='w')\n",
    "# plt.yticks(fontsize=8, color='w')\n",
    "\n",
    "plt.show()\n",
    "plt.close('all')"
   ]
  },
  {
   "cell_type": "code",
   "execution_count": null,
   "metadata": {},
   "outputs": [],
   "source": []
  },
  {
   "cell_type": "code",
   "execution_count": null,
   "metadata": {},
   "outputs": [],
   "source": []
  },
  {
   "cell_type": "code",
   "execution_count": null,
   "metadata": {},
   "outputs": [],
   "source": []
  },
  {
   "cell_type": "markdown",
   "metadata": {},
   "source": [
    "# observe"
   ]
  },
  {
   "cell_type": "code",
   "execution_count": 361,
   "metadata": {},
   "outputs": [
    {
     "name": "stdout",
     "output_type": "stream",
     "text": [
      "300104 201904251500\n",
      "300216 201904251500\n",
      "300028 201808071500\n",
      "300353 202001201500\n",
      "000029 201609131500\n"
     ]
    }
   ],
   "source": [
    "for sto_id in sto_ids:\n",
    "    df = BaosAgent.read_freq_df(delta, sto_id)\n",
    "    if '202002111500' != df.time.iloc[-1]:\n",
    "        print(sto_id, df.time.iloc[-1])"
   ]
  },
  {
   "cell_type": "code",
   "execution_count": null,
   "metadata": {},
   "outputs": [],
   "source": []
  },
  {
   "cell_type": "code",
   "execution_count": null,
   "metadata": {},
   "outputs": [],
   "source": []
  },
  {
   "cell_type": "code",
   "execution_count": null,
   "metadata": {},
   "outputs": [],
   "source": [
    "def generate_target_pic(sto_id, delta, pic_path, ts_jq, pic_fn):\n",
    "    \n",
    "    daily_count = int(240/delta)\n",
    "    df = BaosAgent.read_freq_df(delta, sto_id)\n",
    "    df = DataUtil.add_rt_data(sto_id, df, delta, ts_jq)\n",
    "    \n",
    "    df = FeatureTool.add_ta_features(df, daily_count)\n",
    "    df = FeatureTool.add_close_features(df, daily_count)\n",
    "    df = FeatureTool.add_volume_features(df, daily_count)\n",
    "\n",
    "    df = df.dropna()\n",
    "    df = df.iloc[-daily_count * 5 * 24:]\n",
    "    df = df.reset_index(drop=True)\n",
    "    print(len(df))\n",
    "    try:\n",
    "        cond = SFStrategy.get_cond_k12345above80_last40(df, daily_count)\n",
    "        match_idxes = list(df[cond].index)\n",
    "        match_size = len(match_idxes)\n",
    "        print(match_idxes)\n",
    "\n",
    "        minp = min(df.close)\n",
    "        curp = df.iloc[-1].close\n",
    "        cr = (curp - minp) / minp\n",
    "        print('{} {} {:>6.2%} {:>5.2f} {:>5.2f}'.format(sto_id, df.time.iloc[match_idxes[-1]], cr, minp, curp))\n",
    "        print()\n",
    "        \n",
    "        PlotTool.display_obs(df, daily_count, match_idxes, pic_fn, True, pic_path)\n",
    "        clear_output()\n",
    "    except Exception as e:\n",
    "        print(e)\n",
    "        pass\n",
    "\n",
    "jq.auth('15808061188', 'allan2jq')\n",
    "\n",
    "delta = 15\n",
    "target_path = './target/'\n",
    "target_fns = os.listdir(target_path)\n",
    "target_fns.sort()\n",
    "for target_fn in target_fns:\n",
    "    \n",
    "    if not target_fn.startswith('matches'):\n",
    "        continue\n",
    "    if os.path.isdir(target_path + target_fn):\n",
    "        continue\n",
    "    \n",
    "    pic_path = target_path + target_fn[:-4] + '/'\n",
    "    ts_jq = datetime.strptime(target_fn[8:-4], '%Y-%m-%d-%H%M')\n",
    "    ts_jq = datetime.strftime(ts_jq, '%Y-%m-%d %H:%M:%S')\n",
    "    if not os.path.exists(pic_path):\n",
    "        os.mkdir(pic_path)\n",
    "        target_df = pd.read_csv(target_path + target_fn, dtype={'sto_id':str})\n",
    "        for idx in target_df.index:\n",
    "            record = target_df.iloc[idx]\n",
    "            sto_id = record.sto_id\n",
    "            lastest_match_ts = record.lastest_match_ts\n",
    "            last_20weeks_cr = record.last_20weeks_cr\n",
    "            last_week_cr = record.last_week_cr\n",
    "            pic_fn = '{}_{}_{:>6.2%}_{:>6.2%}.png'.format(sto_id, lastest_match_ts, last_20weeks_cr, last_week_cr)\n",
    "            generate_target_pic(sto_id, delta, pic_path, ts_jq, pic_fn)\n",
    "jq.logout()"
   ]
  },
  {
   "cell_type": "code",
   "execution_count": null,
   "metadata": {},
   "outputs": [],
   "source": []
  },
  {
   "cell_type": "code",
   "execution_count": null,
   "metadata": {},
   "outputs": [],
   "source": []
  },
  {
   "cell_type": "code",
   "execution_count": null,
   "metadata": {},
   "outputs": [],
   "source": []
  },
  {
   "cell_type": "code",
   "execution_count": null,
   "metadata": {},
   "outputs": [],
   "source": [
    "delta = 15\n",
    "daily_count = int(240 / delta)\n",
    "# sto_ids = get_freq_file_sto_ids(delta)\n",
    "sto_id = random.sample(sto_ids_backup, 1)[0]\n",
    "# sto_id = '002436'"
   ]
  },
  {
   "cell_type": "code",
   "execution_count": null,
   "metadata": {
    "scrolled": false
   },
   "outputs": [],
   "source": [
    "# idx += 1\n",
    "# sto_id = sto_ids_backup[idx]\n",
    "\n",
    "delta = 15\n",
    "daily_count = int(240 / delta)\n",
    "minimum_df_size = daily_count * 5 * 30\n",
    "for sto_id in sto_ids_backup:\n",
    "    df = BaosAgent.read_freq_df(delta, sto_id)\n",
    "#     df = DataUtil.add_rt_data(sto_id, df, delta)\n",
    "    \n",
    "    df = FeatureTool.add_ta_features(df, daily_count)\n",
    "    df = FeatureTool.add_close_features(df, daily_count)\n",
    "    df = FeatureTool.add_volume_features(df, daily_count)\n",
    "\n",
    "    df = df.dropna()\n",
    "    df = df.iloc[-daily_count * 5 * 30:]\n",
    "    df = df.reset_index(drop=True)\n",
    "    print(len(df), minimum_df_size == len(df))\n",
    "    \n",
    "    try:\n",
    "        cond = SFStrategy.get_cond_k12345above80_last40(df, daily_count)\n",
    "        # cond = self.get_cond_ksumavg_cross60(df)\n",
    "        match_idxes = list(df[cond].index)\n",
    "        match_size = len(match_idxes)\n",
    "        print(match_idxes)\n",
    "\n",
    "        minp = min(df.close)\n",
    "        curp = df.iloc[-1].close\n",
    "        cr = (curp - minp) / minp\n",
    "        print('{} {} {:>6.2%} {:>5.2f} {:>5.2f}'.format(sto_id, df.time.iloc[match_idxes[-1]], cr, minp, curp))\n",
    "        print()\n",
    "        \n",
    "        PlotTool.display_obs(df, daily_count, match_idxes, True)\n",
    "        clear_output()\n",
    "    except Exception as e:\n",
    "        print(e)\n",
    "        pass"
   ]
  },
  {
   "cell_type": "code",
   "execution_count": null,
   "metadata": {},
   "outputs": [],
   "source": [
    "# jq.auth('15808061188', 'allan2jq')\n",
    "sfs = SFStrategy(15)\n",
    "num_processes = 6\n",
    "sfs.find_matches(num_processes)"
   ]
  },
  {
   "cell_type": "code",
   "execution_count": null,
   "metadata": {},
   "outputs": [],
   "source": [
    "sfs = SFStrategy(15)\n",
    "num_processes = 6\n",
    "sfs.find_matches(num_processes)"
   ]
  },
  {
   "cell_type": "code",
   "execution_count": null,
   "metadata": {},
   "outputs": [],
   "source": [
    "delta = 15\n",
    "daily_count = int(240 / delta)\n",
    "sto_ids = get_freq_file_sto_ids(delta)\n",
    "sto_id = random.sample(sto_ids, 1)[0]\n",
    "\n",
    "df = BaosAgent.read_freq_df(delta, sto_id)\n",
    "df = FeatureTool.add_ta_features(df, daily_count)"
   ]
  },
  {
   "cell_type": "code",
   "execution_count": null,
   "metadata": {},
   "outputs": [],
   "source": [
    "np.nanmax(close_slopes), np.nanmin(close_slopes)"
   ]
  },
  {
   "cell_type": "code",
   "execution_count": null,
   "metadata": {},
   "outputs": [],
   "source": []
  },
  {
   "cell_type": "code",
   "execution_count": null,
   "metadata": {
    "scrolled": false
   },
   "outputs": [],
   "source": [
    "delta = 15\n",
    "daily_count = int(240/delta)\n",
    "sto_ids = get_freq_file_sto_ids(delta)\n",
    "sto_id = random.sample(sto_ids, 1)[0]\n",
    "\n",
    "df = BaosAgent.read_freq_df(delta, sto_id)\n",
    "\n",
    "\n",
    "df = FeatureTool.add_ta_features(df, daily_count)\n",
    "df = FeatureTool.add_close_features(df, daily_count)\n",
    "df = FeatureTool.add_volume_features(df, daily_count)\n",
    "\n",
    "df = df.iloc[-daily_count * 5 * 50:]\n",
    "\n",
    "df = df.dropna()\n",
    "df = df.reset_index(drop=True)\n",
    "\n",
    "cond = ((df.K_1 > 70) | (df.K_2 > 70) | (df.K_3 > 70) | (df.K_4 > 70) | (df.K_5 > 70)).rolling(daily_count * 5).apply(lambda x: x.all(), raw=True) == 1\n",
    "# cond = ((df.MFISUM_AVG > 50).rolling(daily_count * 2).apply(lambda x: x.all(), raw=True) == 1) & cond\n",
    "# cond = df.MFISUM_AVG > 50\n",
    "# cond = (df.MFISUM_AVG > df.MFISUM_AVG.shift(1)) & cond\n",
    "# cond = (df.KSUM_AVG > df.KSUM_AVG.shift(1)) & cond\n",
    "# cond = (df.MFISUM_AVG.diff(1) < 0) & (df.MFISUM_AVG.diff(-1) < 0) & cond\n",
    "# cond = (df.K_1.diff(1) < 0) & (df.K_1.diff(-1) < 0) & cond\n",
    "\n",
    "# cond = (df.KSUM_AVG > df.KSUM_AVG.shift(1))\n",
    "# cond = (df.slope_MFISMU_AVG > 0) & (df.slope_close < 0) & cond\n",
    "\n",
    "# cond = df.KSUM_AVG < 20\n",
    "\n",
    "match_idxes = df[cond].index\n",
    "print(len(df), len(df[cond]))\n",
    "\n",
    "PlotTool.display_obs(df, daily_count, match_idxes, '', False, '')"
   ]
  },
  {
   "cell_type": "code",
   "execution_count": null,
   "metadata": {},
   "outputs": [],
   "source": [
    "k"
   ]
  },
  {
   "cell_type": "code",
   "execution_count": null,
   "metadata": {},
   "outputs": [],
   "source": []
  },
  {
   "cell_type": "code",
   "execution_count": null,
   "metadata": {},
   "outputs": [],
   "source": []
  },
  {
   "cell_type": "code",
   "execution_count": 214,
   "metadata": {},
   "outputs": [],
   "source": []
  }
 ],
 "metadata": {
  "file_extension": ".py",
  "kernelspec": {
   "display_name": "Python 3",
   "language": "python",
   "name": "python3"
  },
  "language_info": {
   "codemirror_mode": {
    "name": "ipython",
    "version": 3
   },
   "file_extension": ".py",
   "mimetype": "text/x-python",
   "name": "python",
   "nbconvert_exporter": "python",
   "pygments_lexer": "ipython3",
   "version": "3.7.0"
  },
  "mimetype": "text/x-python",
  "name": "python",
  "npconvert_exporter": "python",
  "pygments_lexer": "ipython3",
  "version": 3
 },
 "nbformat": 4,
 "nbformat_minor": 2
}
